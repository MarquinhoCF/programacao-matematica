{
  "cells": [
    {
      "cell_type": "markdown",
      "metadata": {
        "id": "SDqZj9a8erxw"
      },
      "source": [
        "# GCC118 - Programação Matemática\n",
        "## Universidade Federal de Lavras\n",
        "### Instituto de Ciências Exatas e Tecnológicas\n",
        "#### Aluno: Marcos Carvalho Ferreira"
      ]
    },
    {
      "cell_type": "code",
      "execution_count": 1,
      "metadata": {
        "colab": {
          "base_uri": "https://localhost:8080/"
        },
        "id": "gvVe_D0XevPM",
        "outputId": "bb9d1142-39a3-4c4e-aedd-4a14bf7e2f43"
      },
      "outputs": [
        {
          "name": "stdout",
          "output_type": "stream",
          "text": [
            "Requirement already satisfied: pulp in ./.venv/lib/python3.12/site-packages (3.3.0)\n",
            "Note: you may need to restart the kernel to use updated packages.\n"
          ]
        }
      ],
      "source": [
        "%pip install pulp\n",
        "import pulp"
      ]
    },
    {
      "cell_type": "markdown",
      "metadata": {
        "id": "cVPKZZnpe0Pg"
      },
      "source": [
        "## Problema 2\n",
        "\n",
        "Uma certa fábrica de camisetas deseja aproveitar as finais de um campeonato de futebol para vender camisetas dos times envolvidos. Os jogos vão durar quatro semanas. O custo de produção de cada camiseta é de R\\$ 2,00 nas duas primeiras semanas e R\\$ 2,50 nas duas últimas, quando a concorrência demandar por material no mercado. A demanda semanal de camisetas será de 5.000, 10.000, 30.000 e 60.000. A capacidade máxima de produção da empresa é de 25.000 camisetas semanalmente. Na primeira e na segunda semanas, a empresa poderá contratar horas extras de serviço e fabricar mais 10.000 camisetas em cada semana. Nesse caso, o custo de produção sobe para R\\$ 2,80. O excesso de produção pode ser estocado a um custo de R\\$ 0,20 por unidade por semana. Formule um modelo que minimize os custos."
      ]
    },
    {
      "cell_type": "markdown",
      "metadata": {
        "id": "4VXh9xdTgdN6"
      },
      "source": [
        "## Parâmetros\n",
        "\n",
        "Dados (do enunciado):\n",
        "\n",
        "* Demanda semanal $d = [5000,\\,10000,\\,30000,\\,60000]$.\n",
        "* Capacidade normal por semana: $25\\,000$.\n",
        "* Capacidade de hora extra (semanas 1 e 2): $10\\,000$ cada.\n",
        "* Custo de produção normal: $c_t = 2{,}00$ nas semanas 1 e 2; $c_t = 2{,}50$ nas semanas 3 e 4.\n",
        "* Custo de hora extra: $c^{HE}=2{,}80$.\n",
        "* Custo de estocagem por unidade por semana: $h = 0{,}20$.\n",
        "* Estoque inicial $E_0 = 0$.\n",
        "\n",
        "## Variáveis de decisão\n",
        "\n",
        "Para cada semana $t=1,2,3,4$:\n",
        "\n",
        "* $p_t$ = quantidade produzida **em regime normal** na semana $t$ (unidades).\n",
        "* $he_t$ = quantidade produzida em **hora extra** na semana $t$ (unidades).\n",
        "  Observação: $he_3=he_4=0$ (horas extras só são permitidas nas semanas 1 e 2).\n",
        "* $E_t$ = estoque (inventário) ao **final** da semana $t$ (unidades)."
      ]
    },
    {
      "cell_type": "code",
      "execution_count": 2,
      "metadata": {
        "id": "kiOcitLkeqwF"
      },
      "outputs": [],
      "source": [
        "semanas = [1, 2, 3, 4]\n",
        "\n",
        "demanda = {\n",
        "    1: 5000,\n",
        "    2: 10000,\n",
        "    3: 30000,\n",
        "    4: 60000\n",
        "}\n",
        "\n",
        "custo_normal = {\n",
        "    1: 2.0,\n",
        "    2: 2.0,\n",
        "    3: 2.5,\n",
        "    4: 2.5\n",
        "}\n",
        "\n",
        "custo_extra = 2.8\n",
        "custo_estoque = 0.2\n",
        "\n",
        "capacidade_normal = {\n",
        "    1: 25000,\n",
        "    2: 25000,\n",
        "    3: 25000,\n",
        "    4: 25000\n",
        "}\n",
        "\n",
        "capacidade_extra = {\n",
        "    1: 10000,\n",
        "    2: 10000,\n",
        "    3: 0,\n",
        "    4: 0\n",
        "}"
      ]
    },
    {
      "cell_type": "markdown",
      "metadata": {
        "id": "C_LD76iFhDAE"
      },
      "source": [
        "## Modelo matemático\n",
        "\n",
        "### Função Objetivo:\n",
        "\n",
        "Minimize os custos: produção, produção em hora extra e estoque.\n",
        "\n",
        "$$\n",
        "\\min \\; f = \\sum_{t=1}^{4} c_t\\,p_t \\;+\\; c^{HE}\\sum_{t=1}^{2} he_t \\;+\\; h\\sum_{t=1}^{4} E_t\n",
        "$$\n",
        "\n",
        "### Restrições:\n",
        "\n",
        "1. Equilíbrio de estoque (restrições de balanço) para cada semana:\n",
        "\n",
        "$$\n",
        "E_t = E_{t-1} + p_t + he_t - d_t,\\qquad t=1,2,3,4,\n",
        "$$\n",
        "\n",
        "com condição inicial: $E_0=0$.\n",
        "\n",
        "2. A produção normal deve respeitar o limite de capacidade normal\n",
        "\n",
        "$$\n",
        "p_t \\le 25\\,000 \\quad\\forall t.\n",
        "$$\n",
        "\n",
        "3. A produção em hora extra deve respeitar o limite de capacidade em hora extra. Lembrando que a empresa não pode contratar horas extras nas semanas 3 e 4:\n",
        "\n",
        "$$\n",
        "0 \\le he_t \\le 10\\,000\\quad (t=1,2),\\qquad he_3=he_4=0 .\n",
        "$$\n",
        "\n",
        "4. Domínio:\n",
        "\n",
        "$$\n",
        "p_t \\ge 0,\\quad he_t \\ge 0,\\quad E_t \\ge 0 \\quad\\forall t.\n",
        "$$"
      ]
    },
    {
      "cell_type": "markdown",
      "metadata": {
        "id": "ol1VCZAPt6P0"
      },
      "source": [
        "### Declaração do objeto que representa o modelo matemático"
      ]
    },
    {
      "cell_type": "code",
      "execution_count": 3,
      "metadata": {
        "id": "u8MWnbjSeg4K"
      },
      "outputs": [],
      "source": [
        "modelo = pulp.LpProblem(\"ProducaoCamisetas\", pulp.LpMinimize)"
      ]
    },
    {
      "cell_type": "markdown",
      "metadata": {
        "id": "OK5B2ubety83"
      },
      "source": [
        "### Variáveis de Decisão"
      ]
    },
    {
      "cell_type": "code",
      "execution_count": 4,
      "metadata": {
        "id": "rVbULAZafIr_"
      },
      "outputs": [],
      "source": [
        "p = pulp.LpVariable.dicts(\"ProducaoNormal\", semanas, lowBound=0)\n",
        "he = pulp.LpVariable.dicts(\"ProducaoExtra\", semanas, lowBound=0)\n",
        "E = pulp.LpVariable.dicts(\"Estoque\", semanas, lowBound=0)"
      ]
    },
    {
      "cell_type": "markdown",
      "metadata": {
        "id": "zPmZ19YNtvxE"
      },
      "source": [
        "### Função Objetivo"
      ]
    },
    {
      "cell_type": "code",
      "execution_count": 5,
      "metadata": {
        "id": "4NORsS2uf7W5"
      },
      "outputs": [],
      "source": [
        "modelo += (\n",
        "    pulp.lpSum(custo_normal[t] * p[t] for t in semanas) +\n",
        "    pulp.lpSum(custo_extra * he[t] for t in semanas) +\n",
        "    pulp.lpSum(custo_estoque * E[t] for t in semanas)\n",
        ")"
      ]
    },
    {
      "cell_type": "markdown",
      "metadata": {
        "id": "_CGtUUfLuCEy"
      },
      "source": [
        "### Restrições"
      ]
    },
    {
      "cell_type": "code",
      "execution_count": 6,
      "metadata": {
        "id": "0A0Qqkcxgdk0"
      },
      "outputs": [],
      "source": [
        "for t in semanas:\n",
        "    modelo += p[t] <= capacidade_normal[t], f\"CapacidadeNormal_{t}\"\n",
        "    modelo += he[t] <= capacidade_extra[t], f\"CapacidadeExtra_{t}\"\n",
        "\n",
        "E_anterior = 0\n",
        "for t in semanas:\n",
        "    modelo += E[t] == E_anterior + p[t] + he[t] - demanda[t], f\"Balanço_{t}\"\n",
        "    E_anterior = E[t]"
      ]
    },
    {
      "cell_type": "code",
      "execution_count": 7,
      "metadata": {
        "colab": {
          "base_uri": "https://localhost:8080/"
        },
        "id": "iUzf4AUDIfUY",
        "outputId": "741d1ac7-781e-4425-ee18-b7064a15ccdd"
      },
      "outputs": [
        {
          "data": {
            "text/plain": [
              "ProducaoCamisetas:\n",
              "MINIMIZE\n",
              "0.2*Estoque_1 + 0.2*Estoque_2 + 0.2*Estoque_3 + 0.2*Estoque_4 + 2.8*ProducaoExtra_1 + 2.8*ProducaoExtra_2 + 2.8*ProducaoExtra_3 + 2.8*ProducaoExtra_4 + 2.0*ProducaoNormal_1 + 2.0*ProducaoNormal_2 + 2.5*ProducaoNormal_3 + 2.5*ProducaoNormal_4 + 0.0\n",
              "SUBJECT TO\n",
              "CapacidadeNormal_1: ProducaoNormal_1 <= 25000\n",
              "\n",
              "CapacidadeExtra_1: ProducaoExtra_1 <= 10000\n",
              "\n",
              "CapacidadeNormal_2: ProducaoNormal_2 <= 25000\n",
              "\n",
              "CapacidadeExtra_2: ProducaoExtra_2 <= 10000\n",
              "\n",
              "CapacidadeNormal_3: ProducaoNormal_3 <= 25000\n",
              "\n",
              "CapacidadeExtra_3: ProducaoExtra_3 <= 0\n",
              "\n",
              "CapacidadeNormal_4: ProducaoNormal_4 <= 25000\n",
              "\n",
              "CapacidadeExtra_4: ProducaoExtra_4 <= 0\n",
              "\n",
              "Balanço_1: Estoque_1 - ProducaoExtra_1 - ProducaoNormal_1 = -5000\n",
              "\n",
              "Balanço_2: - Estoque_1 + Estoque_2 - ProducaoExtra_2 - ProducaoNormal_2\n",
              " = -10000\n",
              "\n",
              "Balanço_3: - Estoque_2 + Estoque_3 - ProducaoExtra_3 - ProducaoNormal_3\n",
              " = -30000\n",
              "\n",
              "Balanço_4: - Estoque_3 + Estoque_4 - ProducaoExtra_4 - ProducaoNormal_4\n",
              " = -60000\n",
              "\n",
              "VARIABLES\n",
              "Estoque_1 Continuous\n",
              "Estoque_2 Continuous\n",
              "Estoque_3 Continuous\n",
              "Estoque_4 Continuous\n",
              "ProducaoExtra_1 Continuous\n",
              "ProducaoExtra_2 Continuous\n",
              "ProducaoExtra_3 Continuous\n",
              "ProducaoExtra_4 Continuous\n",
              "ProducaoNormal_1 Continuous\n",
              "ProducaoNormal_2 Continuous\n",
              "ProducaoNormal_3 Continuous\n",
              "ProducaoNormal_4 Continuous"
            ]
          },
          "execution_count": 7,
          "metadata": {},
          "output_type": "execute_result"
        }
      ],
      "source": [
        "modelo"
      ]
    },
    {
      "cell_type": "markdown",
      "metadata": {
        "id": "KEv7-9YQuE2G"
      },
      "source": [
        "### Resolvendo o problema"
      ]
    },
    {
      "cell_type": "code",
      "execution_count": 8,
      "metadata": {
        "colab": {
          "base_uri": "https://localhost:8080/"
        },
        "id": "dtJmKXKVu6dv",
        "outputId": "745f9eaf-0232-4202-8634-57808187f7cf"
      },
      "outputs": [
        {
          "name": "stdout",
          "output_type": "stream",
          "text": [
            "Welcome to the CBC MILP Solver \n",
            "Version: 2.10.3 \n",
            "Build Date: Dec 15 2019 \n",
            "\n",
            "command line - /home/marcos/Área de trabalho/Mestrado/1 - Disciplina Isolada/Programação Matemática/Atividades Práticas/Atividade 1/atividade1/.venv/lib/python3.12/site-packages/pulp/apis/../solverdir/cbc/linux/i64/cbc /tmp/0863dbee3cbb4d7182ffd07447a74160-pulp.mps -timeMode elapsed -branch -printingOptions all -solution /tmp/0863dbee3cbb4d7182ffd07447a74160-pulp.sol (default strategy 1)\n",
            "At line 2 NAME          MODEL\n",
            "At line 3 ROWS\n",
            "At line 17 COLUMNS\n",
            "At line 53 RHS\n",
            "At line 66 BOUNDS\n",
            "At line 67 ENDATA\n",
            "Problem MODEL has 12 rows, 12 columns and 23 elements\n",
            "Coin0008I MODEL read with 0 errors\n",
            "Option for timeMode changed from cpu to elapsed\n",
            "Presolve 1 (-11) rows, 7 (-5) columns and 7 (-16) elements\n",
            "0  Obj 114999.13 Primal inf 65000.405 (1)\n",
            "1  Obj 258000\n",
            "Optimal - objective value 258000\n",
            "After Postsolve, objective 258000, infeasibilities - dual 0 (0), primal 0 (0)\n",
            "Optimal objective 258000 - 1 iterations time 0.002, Presolve 0.00\n",
            "Option for printingOptions changed from normal to all\n",
            "Total time (CPU seconds):       0.00   (Wallclock seconds):       0.00\n",
            "\n"
          ]
        },
        {
          "data": {
            "text/plain": [
              "1"
            ]
          },
          "execution_count": 8,
          "metadata": {},
          "output_type": "execute_result"
        }
      ],
      "source": [
        "modelo.solve()"
      ]
    },
    {
      "cell_type": "markdown",
      "metadata": {
        "id": "85Bl4LwJu-4F"
      },
      "source": [
        "## Imprimindo as soluções do problema"
      ]
    },
    {
      "cell_type": "code",
      "execution_count": 9,
      "metadata": {
        "colab": {
          "base_uri": "https://localhost:8080/"
        },
        "id": "3zMssK7Dkw0g",
        "outputId": "793812f9-dc1c-4ffb-e739-2ae403487f61"
      },
      "outputs": [
        {
          "name": "stdout",
          "output_type": "stream",
          "text": [
            "Status: Optimal\n",
            "Custo total: 258000.0\n",
            "Semana 1: Produção normal=25000, Extra=0, Estoque final=20000\n",
            "Semana 2: Produção normal=25000, Extra=5000, Estoque final=40000\n",
            "Semana 3: Produção normal=25000, Extra=0, Estoque final=35000\n",
            "Semana 4: Produção normal=25000, Extra=0, Estoque final=0\n"
          ]
        }
      ],
      "source": [
        "print(\"Status:\", pulp.LpStatus[modelo.status])\n",
        "print(\"Custo total:\", pulp.value(modelo.objective))\n",
        "\n",
        "for t in semanas:\n",
        "    print(f\"Semana {t}: Produção normal={p[t].value():.0f}, \"\n",
        "          f\"Extra={he[t].value():.0f}, Estoque final={E[t].value():.0f}\")"
      ]
    }
  ],
  "metadata": {
    "colab": {
      "provenance": []
    },
    "kernelspec": {
      "display_name": ".venv (3.12.3)",
      "language": "python",
      "name": "python3"
    },
    "language_info": {
      "codemirror_mode": {
        "name": "ipython",
        "version": 3
      },
      "file_extension": ".py",
      "mimetype": "text/x-python",
      "name": "python",
      "nbconvert_exporter": "python",
      "pygments_lexer": "ipython3",
      "version": "3.12.3"
    }
  },
  "nbformat": 4,
  "nbformat_minor": 0
}
