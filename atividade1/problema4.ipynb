{
  "cells": [
    {
      "cell_type": "markdown",
      "metadata": {
        "id": "SDqZj9a8erxw"
      },
      "source": [
        "# GCC118 - Programação Matemática\n",
        "## Universidade Federal de Lavras\n",
        "### Instituto de Ciências Exatas e Tecnológicas\n",
        "#### Aluno: Marcos Carvalho Ferreira"
      ]
    },
    {
      "cell_type": "code",
      "execution_count": null,
      "metadata": {
        "colab": {
          "base_uri": "https://localhost:8080/"
        },
        "id": "gvVe_D0XevPM",
        "outputId": "32f09298-9837-4ed2-a211-ed132beb6ac2"
      },
      "outputs": [
        {
          "name": "stdout",
          "output_type": "stream",
          "text": [
            "Requirement already satisfied: pulp in ./.venv/lib/python3.12/site-packages (3.3.0)\n",
            "Note: you may need to restart the kernel to use updated packages.\n",
            "Collecting pandas\n",
            "  Downloading pandas-2.3.2-cp312-cp312-manylinux_2_17_x86_64.manylinux2014_x86_64.whl.metadata (91 kB)\n",
            "\u001b[2K     \u001b[38;2;114;156;31m━━━━━━━━━━━━━━━━━━━━━━━━━━━━━━━━━━━━━━━━\u001b[0m \u001b[32m91.2/91.2 kB\u001b[0m \u001b[31m1.6 MB/s\u001b[0m eta \u001b[36m0:00:00\u001b[0m[31m1.9 MB/s\u001b[0m eta \u001b[36m0:00:01\u001b[0m\n",
            "\u001b[?25hCollecting numpy>=1.26.0 (from pandas)\n",
            "  Downloading numpy-2.3.3-cp312-cp312-manylinux_2_27_x86_64.manylinux_2_28_x86_64.whl.metadata (62 kB)\n",
            "\u001b[2K     \u001b[38;2;114;156;31m━━━━━━━━━━━━━━━━━━━━━━━━━━━━━━━━━━━━━━━━\u001b[0m \u001b[32m62.1/62.1 kB\u001b[0m \u001b[31m2.5 MB/s\u001b[0m eta \u001b[36m0:00:00\u001b[0m\n",
            "\u001b[?25hRequirement already satisfied: python-dateutil>=2.8.2 in ./.venv/lib/python3.12/site-packages (from pandas) (2.9.0.post0)\n",
            "Collecting pytz>=2020.1 (from pandas)\n",
            "  Using cached pytz-2025.2-py2.py3-none-any.whl.metadata (22 kB)\n",
            "Collecting tzdata>=2022.7 (from pandas)\n",
            "  Using cached tzdata-2025.2-py2.py3-none-any.whl.metadata (1.4 kB)\n",
            "Requirement already satisfied: six>=1.5 in ./.venv/lib/python3.12/site-packages (from python-dateutil>=2.8.2->pandas) (1.17.0)\n",
            "Downloading pandas-2.3.2-cp312-cp312-manylinux_2_17_x86_64.manylinux2014_x86_64.whl (12.0 MB)\n",
            "\u001b[2K   \u001b[38;2;114;156;31m━━━━━━━━━━━━━━━━━━━━━━━━━━━━━━━━━━━━━━━━\u001b[0m \u001b[32m12.0/12.0 MB\u001b[0m \u001b[31m4.5 MB/s\u001b[0m eta \u001b[36m0:00:00\u001b[0mm eta \u001b[36m0:00:01\u001b[0m[36m0:00:01\u001b[0m\n",
            "\u001b[?25hDownloading numpy-2.3.3-cp312-cp312-manylinux_2_27_x86_64.manylinux_2_28_x86_64.whl (16.6 MB)\n",
            "\u001b[2K   \u001b[38;2;114;156;31m━━━━━━━━━━━━━━━━━━━━━━━━━━━━━━━━━━━━━━━━\u001b[0m \u001b[32m16.6/16.6 MB\u001b[0m \u001b[31m4.7 MB/s\u001b[0m eta \u001b[36m0:00:00\u001b[0mm eta \u001b[36m0:00:01\u001b[0m[36m0:00:01\u001b[0m\n",
            "\u001b[?25hUsing cached pytz-2025.2-py2.py3-none-any.whl (509 kB)\n",
            "Using cached tzdata-2025.2-py2.py3-none-any.whl (347 kB)\n",
            "Installing collected packages: pytz, tzdata, numpy, pandas\n",
            "Successfully installed numpy-2.3.3 pandas-2.3.2 pytz-2025.2 tzdata-2025.2\n",
            "Note: you may need to restart the kernel to use updated packages.\n"
          ]
        }
      ],
      "source": [
        "!pip install pulp\n",
        "import json\n",
        "from pathlib import Path\n",
        "!pip install pandas\n",
        "import pandas as pd\n",
        "import pulp"
      ]
    },
    {
      "cell_type": "markdown",
      "metadata": {
        "id": "cVPKZZnpe0Pg"
      },
      "source": [
        "## Problema 4\n",
        "\n",
        "Uma nutricionista deseja formular uma dieta de emagrecimento, de forma a atender às necessidades mı́nimas de nutrientes de um indivı́duo, respeitando limites calóricos e de custo, e controlando o excesso de alguns nutrientes especı́ficos. Você dispõe de uma base de dados contendo 30 alimentos, cada um com informações de:\n",
        "\n",
        "* preço por porção (R$),\n",
        "* valor energético (kcal),\n",
        "* proteı́na (g),\n",
        "* gordura (g),\n",
        "* carboidrato (g),\n",
        "* cálcio (mg),\n",
        "* ferro (mg),\n",
        "* vitamina C (mg),\n",
        "* sódio (mg).\n",
        "\n",
        "As informações estão armazenadas em um arquivo JSON no seguinte formato simplificado:\n",
        "\n",
        "```json\n",
        "{\n",
        "  \"params\": {\n",
        "    \"Kmax\": 1600,\n",
        "    \"Cmax\": 20,\n",
        "    \"min_prot\": 60,\n",
        "    \"min_carb\": 130,\n",
        "    \"min_cal\": 1000,\n",
        "    \"min_fe\": 8,\n",
        "    \"min_vitc\": 75,\n",
        "    \"fat_max\": 50,\n",
        "    \"sod_max\": 2300\n",
        "  },\n",
        "  \"alimentos\": [\n",
        "    { \"id\": 1, \"nome\": \"Arroz integral\", ... },\n",
        "    { \"id\": 2, \"nome\": \"Feijão carioca\", ... },\n",
        "    ...\n",
        "    { \"id\": 30, \"nome\": \"Sardinha enlatada\", ... }\n",
        "  ]\n",
        "}\n",
        "```\n",
        "\n",
        "### Regras\n",
        "\n",
        "A dieta diária deve conter no máximo 1600 kcal e no máximo R\\$ 20,00.\n",
        "\n",
        "  * Deve-se garantir um consumo mı́nimo de:\n",
        "    * 60 g de proteı́na,\n",
        "    * 130 g de carboidratos,\n",
        "    * 1000 mg de cálcio,\n",
        "    * 8 mg de ferro,\n",
        "    * 75 mg de vitamina C.\n",
        "  * O consumo de gordura deve ser no máximo 50 g/dia.\n",
        "  * O consumo de sódio deve ser no máximo 2300 mg/dia.\n",
        "\n",
        "O objetivo não é minimizar o custo da dieta, mas sim minimizar a quantidade de\n",
        "nutrientes que ultrapassam os limites máximos permitidos. Formule seu problema\n",
        "por meio de um PL, e resolva-o."
      ]
    },
    {
      "cell_type": "markdown",
      "metadata": {
        "id": "4VXh9xdTgdN6"
      },
      "source": [
        "## Parâmetros\n",
        "\n",
        "* $K_{max}$ = Limite máximo de energia: 1600 kcal\n",
        "* $C_{max}$ = Limite máximo de custo: R\\$20  \n",
        "* $P_{min}$ = Mínimo de proteína 60 g\n",
        "* $CH_{min}$ = Mínimo de carboidrato 130 g\n",
        "* $Ca_{min}$ = Mínimo de cálcio 100 mg\n",
        "* $Fe_{min}$ = Mínimo de ferro 8mg\n",
        "* $VitC_{min}$ = Mínimo de vitamina C 75 mg\n",
        "* $G_{max}$ = Limite máximo de gordura 50 g\n",
        "* $Na_{max}$ = Limite máximo de sódio 2300 mg\n",
        "* $kcal_i, c_i, p_i, g_i, ch_i, ca_i, fe_i, vitc_i, na_i$ = Valores nutricionais e custo por porção do alimento $i$\n",
        "\n",
        "## Variáveis de decisão\n",
        "\n",
        "* $x_i \\ge 0$: quantidade de porções do alimento $i$.\n",
        "* $e_{kcal}, e_{custo}, e_{gord}, e_{sod} \\ge 0$: variáveis de excesso para permitir ultrapassar os limites máximos de energia, custo, gordura e sódio.\n"
      ]
    },
    {
      "cell_type": "code",
      "execution_count": 3,
      "metadata": {
        "id": "kiOcitLkeqwF"
      },
      "outputs": [],
      "source": [
        "path = Path(\"dieta.json\")\n",
        "data = json.loads(path.read_text())\n",
        "\n",
        "params = data[\"params\"]\n",
        "alimentos = data[\"alimentos\"]\n",
        "\n",
        "ids = [alimento[\"id\"] for alimento in alimentos]\n",
        "nome = {alimento[\"id\"]: alimento[\"nome\"] for alimento in alimentos}\n",
        "price = {alimento[\"id\"]: alimento[\"preco\"] for alimento in alimentos}\n",
        "kcal = {alimento[\"id\"]: alimento[\"kcal\"] for alimento in alimentos}\n",
        "prot = {alimento[\"id\"]: alimento[\"proteina\"] for alimento in alimentos}\n",
        "fat = {alimento[\"id\"]: alimento[\"gordura\"] for alimento in alimentos}\n",
        "carb = {alimento[\"id\"]: alimento[\"carboidrato\"] for alimento in alimentos}\n",
        "calcio = {alimento[\"id\"]: alimento[\"calcio\"] for alimento in alimentos}\n",
        "ferro = {alimento[\"id\"]: alimento[\"ferro\"] for alimento in alimentos}\n",
        "vitc = {alimento[\"id\"]: alimento[\"vitaminaC\"] for alimento in alimentos}\n",
        "sodio = {alimento[\"id\"]: alimento[\"sodio\"] for alimento in alimentos}"
      ]
    },
    {
      "cell_type": "markdown",
      "metadata": {
        "id": "C_LD76iFhDAE"
      },
      "source": [
        "## Modelo matemático\n",
        "\n",
        "### Função Objetivo\n",
        "\n",
        "Minimizar a soma dos excessos.\n",
        "\n",
        "$$\n",
        "\\min Z = e_{kcal} + e_{custo} + e_{gord} + e_{sod}\n",
        "$$\n",
        "\n",
        "\n",
        "### Restrições\n",
        "\n",
        "1. Garantir que a dieta não ultrapasse os valores máximos de energia, custo, gordura e sódio. Se ultrapassar, o excesso será contabilizado nas variáveis\n",
        "$e$:\n",
        "\n",
        "$$\n",
        "\\begin{aligned}\n",
        "\\sum_{i} kcal_i \\, x_i - e_{kcal} &\\le K_{max} \\\\\n",
        "\\sum_{i} c_i \\, x_i - e_{custo} &\\le C_{max} \\\\\n",
        "\\sum_{i} g_i \\, x_i - e_{gord} &\\le G_{max} \\\\\n",
        "\\sum_{i} na_i \\, x_i - e_{sod} &\\le Na_{max}\n",
        "\\end{aligned}\n",
        "$$\n",
        "\n",
        "2. A escolha das porções devem respeitar os limites mínimos dos nutrientes obrigatórios:\n",
        "\n",
        "$$\n",
        "\\begin{aligned}\n",
        "\\sum_{i} p_i \\, x_i &\\ge P_{min} \\\\\n",
        "\\sum_{i} ch_i \\, x_i &\\ge CH_{min} \\\\\n",
        "\\sum_{i} ca_i \\, x_i &\\ge Ca_{min} \\\\\n",
        "\\sum_{i} fe_i \\, x_i &\\ge Fe_{min} \\\\\n",
        "\\sum_{i} vitc_i \\, x_i &\\ge VitC_{min}\n",
        "\\end{aligned}\n",
        "$$\n",
        "\n",
        " 3. Domínio:\n",
        "\n",
        "$$\n",
        "x_i \\ge 0 \\quad \\forall i, \\qquad\n",
        "e_{kcal}, e_{custo}, e_{gord}, e_{sod} \\ge 0\n",
        "$$\n"
      ]
    },
    {
      "cell_type": "markdown",
      "metadata": {
        "id": "ol1VCZAPt6P0"
      },
      "source": [
        "### Declaração do objeto que representa o modelo matemático"
      ]
    },
    {
      "cell_type": "code",
      "execution_count": 4,
      "metadata": {
        "id": "u8MWnbjSeg4K"
      },
      "outputs": [],
      "source": [
        "modelo = pulp.LpProblem(\"Dieta\", pulp.LpMinimize)"
      ]
    },
    {
      "cell_type": "markdown",
      "metadata": {
        "id": "OK5B2ubety83"
      },
      "source": [
        "### Variáveis de Decisão"
      ]
    },
    {
      "cell_type": "code",
      "execution_count": 5,
      "metadata": {
        "id": "rVbULAZafIr_"
      },
      "outputs": [],
      "source": [
        "# Variáveis de decisão (porções)\n",
        "x = {i: pulp.LpVariable(f\"x_{i}\", lowBound=0, cat='Integer') for i in ids}\n",
        "\n",
        "# Variáveis de excesso\n",
        "e_kcal  = pulp.LpVariable(\"e_kcal\",  lowBound=0, cat='Integer')\n",
        "e_custo  = pulp.LpVariable(\"e_custo\",  lowBound=0, cat='Integer')\n",
        "e_gord   = pulp.LpVariable(\"e_gord\",   lowBound=0, cat='Integer')\n",
        "e_sod   = pulp.LpVariable(\"e_sod\",   lowBound=0, cat='Integer')"
      ]
    },
    {
      "cell_type": "markdown",
      "metadata": {
        "id": "zPmZ19YNtvxE"
      },
      "source": [
        "### Função Objetivo"
      ]
    },
    {
      "cell_type": "code",
      "execution_count": 6,
      "metadata": {
        "id": "4NORsS2uf7W5"
      },
      "outputs": [],
      "source": [
        "modelo += e_kcal + e_custo + e_gord + e_sod, \"Minimizar_excessos\""
      ]
    },
    {
      "cell_type": "markdown",
      "metadata": {
        "id": "_CGtUUfLuCEy"
      },
      "source": [
        "### Restrições"
      ]
    },
    {
      "cell_type": "code",
      "execution_count": 7,
      "metadata": {
        "id": "0A0Qqkcxgdk0"
      },
      "outputs": [],
      "source": [
        "modelo += pulp.lpSum(kcal[i]*x[i] for i in ids) - e_kcal <= params[\"Kmax\"]\n",
        "modelo += pulp.lpSum(price[i]*x[i] for i in ids) - e_custo <= params[\"Cmax\"]\n",
        "modelo += pulp.lpSum(fat[i]*x[i] for i in ids) - e_gord <= params[\"fat_max\"]\n",
        "modelo += pulp.lpSum(sodio[i]*x[i] for i in ids) - e_sod <= params[\"sod_max\"]\n",
        "\n",
        "modelo += pulp.lpSum(prot[i]*x[i] for i in ids) >= params[\"min_prot\"]\n",
        "modelo += pulp.lpSum(carb[i]*x[i] for i in ids) >= params[\"min_carb\"]\n",
        "modelo += pulp.lpSum(calcio[i]*x[i] for i in ids) >= params[\"min_cal\"]\n",
        "modelo += pulp.lpSum(ferro[i]*x[i] for i in ids) >= params[\"min_fe\"]\n",
        "modelo += pulp.lpSum(vitc[i]*x[i] for i in ids) >= params[\"min_vitc\"]"
      ]
    },
    {
      "cell_type": "code",
      "execution_count": 8,
      "metadata": {
        "colab": {
          "base_uri": "https://localhost:8080/"
        },
        "id": "iUzf4AUDIfUY",
        "outputId": "c6c789a0-c02a-4143-f4cf-d8ca99601f30"
      },
      "outputs": [
        {
          "data": {
            "text/plain": [
              "Dieta:\n",
              "MINIMIZE\n",
              "1*e_custo + 1*e_gord + 1*e_kcal + 1*e_sod + 0\n",
              "SUBJECT TO\n",
              "_C1: - e_kcal + 130 x_1 + 180 x_10 + 100 x_11 + 200 x_12 + 25 x_13 + 15 x_14\n",
              " + 40 x_15 + 50 x_16 + 90 x_17 + 80 x_18 + 70 x_19 + 120 x_2 + 85 x_20\n",
              " + 160 x_21 + 200 x_22 + 190 x_23 + 110 x_24 + 115 x_25 + 150 x_26 + 100 x_27\n",
              " + 90 x_28 + 80 x_29 + 150 x_3 + 120 x_30 + 165 x_4 + 70 x_5 + 95 x_6\n",
              " + 110 x_7 + 250 x_8 + 120 x_9 <= 1600\n",
              "\n",
              "_C2: - e_custo + 0.5 x_1 + 1.8 x_10 + 0.8 x_11 + 0.9 x_12 + 0.5 x_13\n",
              " + 0.4 x_14 + 0.6 x_15 + 0.8 x_16 + 0.5 x_17 + 0.7 x_18 + 0.6 x_19 + 0.7 x_2\n",
              " + 0.8 x_20 + 1.2 x_21 + 1.5 x_22 + x_23 + 0.8 x_24 + 0.9 x_25 + 0.7 x_26\n",
              " + 0.6 x_27 + x_28 + 0.7 x_29 + 0.4 x_3 + 0.9 x_30 + 2 x_4 + 0.6 x_5 + 1.2 x_6\n",
              " + 1.5 x_7 + 2.5 x_8 + 2.2 x_9 <= 20\n",
              "\n",
              "_C3: - e_gord + x_1 + 10 x_10 + 0.1 x_11 + 1.5 x_12 + 0.2 x_13 + 0.1 x_14\n",
              " + 0.2 x_15 + 0.5 x_16 + 0.3 x_17 + 0.2 x_18 + 0.1 x_19 + 0.5 x_2 + 0.3 x_20\n",
              " + 15 x_21 + 18 x_22 + 16 x_23 + 0.5 x_24 + 0.4 x_25 + 3 x_26 + 0.5 x_27\n",
              " + 10 x_28 + 9 x_29 + 2 x_3 + 3 x_30 + 3.5 x_4 + 5 x_5 + 3 x_6 + 7 x_7\n",
              " + 15 x_8 + 2.5 x_9 <= 50\n",
              "\n",
              "_C4: - e_sod + 10 x_11 + 15 x_13 + 5 x_14 + 6 x_15 + 60 x_16 + 10 x_17\n",
              " + 8 x_18 + x_2 + 10 x_21 + 2 x_22 + x_25 + 80 x_29 + 30 x_30 + 2 x_6 <= 2300\n",
              "\n",
              "_C5: 2.5 x_1 + 20 x_10 + 2 x_11 + 7 x_12 + x_13 + x_14 + x_15 + 4 x_16 + x_17\n",
              " + 0.5 x_18 + x_19 + 8 x_2 + x_20 + 2 x_21 + 5 x_22 + 8 x_23 + 9 x_24 + 9 x_25\n",
              " + 5 x_26 + 3 x_27 + 5 x_3 + 2 x_30 + 31 x_4 + 6 x_5 + 6 x_6 + 7 x_7 + 26 x_8\n",
              " + 23 x_9 >= 60\n",
              "\n",
              "_C6: 28 x_1 + 23 x_11 + 42 x_12 + 6 x_13 + 2 x_14 + 10 x_15 + 10 x_16\n",
              " + 23 x_17 + 22 x_18 + 18 x_19 + 20 x_2 + 20 x_20 + 9 x_21 + 6 x_22 + 6 x_23\n",
              " + 19 x_24 + 20 x_25 + 27 x_26 + 21 x_27 + 28 x_3 + 22 x_30 + 10 x_6 + x_7\n",
              " >= 130\n",
              "\n",
              "_C7: 10 x_1 + 300 x_10 + 15 x_11 + 20 x_12 + 10 x_13 + 35 x_14 + 25 x_15\n",
              " + 47 x_16 + 5 x_17 + 8 x_18 + 40 x_19 + 45 x_2 + 30 x_20 + 15 x_21 + 30 x_22\n",
              " + 25 x_23 + 45 x_24 + 40 x_25 + 50 x_26 + 15 x_27 + 20 x_3 + 20 x_30 + 15 x_4\n",
              " + 25 x_5 + 150 x_6 + 220 x_7 + 20 x_8 + 10 x_9 >= 1000\n",
              "\n",
              "_C8: 0.2 x_1 + 2 x_10 + 0.5 x_11 + 0.7 x_12 + 0.3 x_13 + 0.4 x_14 + 0.3 x_15\n",
              " + x_16 + 0.3 x_17 + 0.1 x_18 + 0.2 x_19 + 2.1 x_2 + 0.3 x_20 + 0.6 x_21\n",
              " + x_22 + 1.2 x_23 + 2.5 x_24 + 3 x_25 + x_26 + 0.5 x_27 + x_3 + 0.5 x_30\n",
              " + x_4 + 0.9 x_5 + 0.1 x_6 + 0.2 x_7 + 2.5 x_8 + 0.5 x_9 >= 8\n",
              "\n",
              "_C9: 10 x_11 + 15 x_13 + 5 x_14 + 6 x_15 + 60 x_16 + 10 x_17 + 8 x_18\n",
              " + 60 x_19 + x_2 + 90 x_20 + 10 x_21 + 2 x_22 + x_25 + 2 x_6 >= 75\n",
              "\n",
              "VARIABLES\n",
              "0 <= e_custo Integer\n",
              "0 <= e_gord Integer\n",
              "0 <= e_kcal Integer\n",
              "0 <= e_sod Integer\n",
              "0 <= x_1 Integer\n",
              "0 <= x_10 Integer\n",
              "0 <= x_11 Integer\n",
              "0 <= x_12 Integer\n",
              "0 <= x_13 Integer\n",
              "0 <= x_14 Integer\n",
              "0 <= x_15 Integer\n",
              "0 <= x_16 Integer\n",
              "0 <= x_17 Integer\n",
              "0 <= x_18 Integer\n",
              "0 <= x_19 Integer\n",
              "0 <= x_2 Integer\n",
              "0 <= x_20 Integer\n",
              "0 <= x_21 Integer\n",
              "0 <= x_22 Integer\n",
              "0 <= x_23 Integer\n",
              "0 <= x_24 Integer\n",
              "0 <= x_25 Integer\n",
              "0 <= x_26 Integer\n",
              "0 <= x_27 Integer\n",
              "0 <= x_28 Integer\n",
              "0 <= x_29 Integer\n",
              "0 <= x_3 Integer\n",
              "0 <= x_30 Integer\n",
              "0 <= x_4 Integer\n",
              "0 <= x_5 Integer\n",
              "0 <= x_6 Integer\n",
              "0 <= x_7 Integer\n",
              "0 <= x_8 Integer\n",
              "0 <= x_9 Integer"
            ]
          },
          "execution_count": 8,
          "metadata": {},
          "output_type": "execute_result"
        }
      ],
      "source": [
        "modelo"
      ]
    },
    {
      "cell_type": "markdown",
      "metadata": {
        "id": "KEv7-9YQuE2G"
      },
      "source": [
        "### Resolvendo o problema"
      ]
    },
    {
      "cell_type": "code",
      "execution_count": 9,
      "metadata": {
        "colab": {
          "base_uri": "https://localhost:8080/"
        },
        "id": "dtJmKXKVu6dv",
        "outputId": "8efad4a7-c0b4-44fc-b485-db1aad0db918"
      },
      "outputs": [
        {
          "name": "stdout",
          "output_type": "stream",
          "text": [
            "Welcome to the CBC MILP Solver \n",
            "Version: 2.10.3 \n",
            "Build Date: Dec 15 2019 \n",
            "\n",
            "command line - /home/marcos/Área de trabalho/Mestrado/1 - Disciplina Isolada/Programação Matemática/Atividades Práticas/Atividade 1/atividade1/.venv/lib/python3.12/site-packages/pulp/apis/../solverdir/cbc/linux/i64/cbc /tmp/ff2162aa2e494e67a01f4fc3981666fd-pulp.mps -timeMode elapsed -branch -printingOptions all -solution /tmp/ff2162aa2e494e67a01f4fc3981666fd-pulp.sol (default strategy 1)\n",
            "At line 2 NAME          MODEL\n",
            "At line 3 ROWS\n",
            "At line 14 COLUMNS\n",
            "At line 316 RHS\n",
            "At line 326 BOUNDS\n",
            "At line 361 ENDATA\n",
            "Problem MODEL has 9 rows, 34 columns and 229 elements\n",
            "Coin0008I MODEL read with 0 errors\n",
            "Option for timeMode changed from cpu to elapsed\n",
            "Continuous objective value is 0 - 0.00 seconds\n",
            "Cgl0003I 0 fixed, 32 tightened bounds, 1 strengthened rows, 0 substitutions\n",
            "Cgl0004I processed model has 9 rows, 32 columns (32 integer (0 of which binary)) and 222 elements\n",
            "Cutoff increment increased from 1e-05 to 0.9999\n",
            "Cbc0012I Integer solution of 0 found by DiveCoefficient after 0 iterations and 0 nodes (0.00 seconds)\n",
            "Cbc0001I Search completed - best objective 0, took 0 iterations and 0 nodes (0.00 seconds)\n",
            "Cbc0035I Maximum depth 0, 0 variables fixed on reduced cost\n",
            "Cuts at root node changed objective from 0 to 0\n",
            "Probing was tried 0 times and created 0 cuts of which 0 were active after adding rounds of cuts (0.000 seconds)\n",
            "Gomory was tried 0 times and created 0 cuts of which 0 were active after adding rounds of cuts (0.000 seconds)\n",
            "Knapsack was tried 0 times and created 0 cuts of which 0 were active after adding rounds of cuts (0.000 seconds)\n",
            "Clique was tried 0 times and created 0 cuts of which 0 were active after adding rounds of cuts (0.000 seconds)\n",
            "MixedIntegerRounding2 was tried 0 times and created 0 cuts of which 0 were active after adding rounds of cuts (0.000 seconds)\n",
            "FlowCover was tried 0 times and created 0 cuts of which 0 were active after adding rounds of cuts (0.000 seconds)\n",
            "TwoMirCuts was tried 0 times and created 0 cuts of which 0 were active after adding rounds of cuts (0.000 seconds)\n",
            "ZeroHalf was tried 0 times and created 0 cuts of which 0 were active after adding rounds of cuts (0.000 seconds)\n",
            "\n",
            "Result - Optimal solution found\n",
            "\n",
            "Objective value:                0.00000000\n",
            "Enumerated nodes:               0\n",
            "Total iterations:               0\n",
            "Time (CPU seconds):             0.00\n",
            "Time (Wallclock seconds):       0.00\n",
            "\n",
            "Option for printingOptions changed from normal to all\n",
            "Total time (CPU seconds):       0.00   (Wallclock seconds):       0.00\n",
            "\n"
          ]
        },
        {
          "data": {
            "text/plain": [
              "1"
            ]
          },
          "execution_count": 9,
          "metadata": {},
          "output_type": "execute_result"
        }
      ],
      "source": [
        "modelo.solve()"
      ]
    },
    {
      "cell_type": "markdown",
      "metadata": {
        "id": "85Bl4LwJu-4F"
      },
      "source": [
        "## Imprimindo as soluções do problema"
      ]
    },
    {
      "cell_type": "code",
      "execution_count": 10,
      "metadata": {
        "colab": {
          "base_uri": "https://localhost:8080/"
        },
        "id": "3zMssK7Dkw0g",
        "outputId": "5d94ff5c-8d8a-463b-bbeb-5e509b01cfa1"
      },
      "outputs": [
        {
          "name": "stdout",
          "output_type": "stream",
          "text": [
            "Status: Optimal\n",
            "Objetivo (soma dos excessos): 0.0\n",
            "Custo total = R$ 9.80\n",
            "Energia total = 1080.0 kcal\n",
            "Proteína total = 70.5 g\n",
            "Carboidratos = 142.0 g\n",
            "Cálcio = 1045.0 mg\n",
            "Ferro = 10.50 mg\n",
            "Vitamina C = 124.0 mg\n",
            "\n",
            "Excessos:\n",
            " e_kcal= 0.0  e_custo= 0.0  e_gord= 0.0  e_sod= 0.0\n",
            "\n",
            "Porções selecionadas:\n",
            "             nome  porcoes  preco_un  kcal_un  prot_un  gord_un  carb_un  calcio_un  ferro_un  vitc_un  sodio_un\n",
            "     Feijão preto      3.0       0.8      110      9.0      0.5       19         45       2.5        0         0\n",
            "  Iogurte natural      2.0       1.2       95      6.0      3.0       10        150       0.1        2         2\n",
            "          Laranja      2.0       0.6       70      1.0      0.1       18         40       0.2       60         0\n",
            "   Arroz integral      1.0       0.5      130      2.5      1.0       28         10       0.2        0         0\n",
            "Sardinha enlatada      1.0       1.8      180     20.0     10.0        0        300       2.0        0         0\n",
            "     Queijo Minas      1.0       1.5      110      7.0      7.0        1        220       0.2        0         0\n"
          ]
        }
      ],
      "source": [
        "print(\"Status:\", pulp.LpStatus[modelo.status])\n",
        "print(\"Objetivo (soma dos excessos):\", pulp.value(modelo.objective))\n",
        "\n",
        "# Totais\n",
        "tot_price = sum(price[i]*x[i].value() for i in ids)\n",
        "tot_kcal  = sum(kcal[i]*x[i].value() for i in ids)\n",
        "tot_prot  = sum(prot[i]*x[i].value() for i in ids)\n",
        "tot_carb  = sum(carb[i]*x[i].value() for i in ids)\n",
        "tot_calcio= sum(calcio[i]*x[i].value() for i in ids)\n",
        "tot_ferro = sum(ferro[i]*x[i].value() for i in ids)\n",
        "tot_vitc  = sum(vitc[i]*x[i].value() for i in ids)\n",
        "\n",
        "print(f\"Custo total = R$ {tot_price:.2f}\")\n",
        "print(f\"Energia total = {tot_kcal:.1f} kcal\")\n",
        "print(f\"Proteína total = {tot_prot:.1f} g\")\n",
        "print(f\"Carboidratos = {tot_carb:.1f} g\")\n",
        "print(f\"Cálcio = {tot_calcio:.1f} mg\")\n",
        "print(f\"Ferro = {tot_ferro:.2f} mg\")\n",
        "print(f\"Vitamina C = {tot_vitc:.1f} mg\")\n",
        "\n",
        "print(\"\\nExcessos:\")\n",
        "print(\" e_kcal=\", e_kcal.value(), \" e_custo=\", e_custo.value(), \" e_gord=\", e_gord.value(), \" e_sod=\", e_sod.value())\n",
        "\n",
        "# Tabela de porções escolhidas\n",
        "sol = []\n",
        "for i in ids:\n",
        "    q = x[i].value()\n",
        "    if q is not None and q > 1e-8:\n",
        "        sol.append({\n",
        "            \"nome\": nome[i],\n",
        "            \"porcoes\": round(q,4),\n",
        "            \"preco_un\": price[i],\n",
        "            \"kcal_un\": kcal[i],\n",
        "            \"prot_un\": prot[i],\n",
        "            \"gord_un\": fat[i],\n",
        "            \"carb_un\": carb[i],\n",
        "            \"calcio_un\": calcio[i],\n",
        "            \"ferro_un\": ferro[i],\n",
        "            \"vitc_un\": vitc[i],\n",
        "            \"sodio_un\": sodio[i]\n",
        "        })\n",
        "\n",
        "df = pd.DataFrame(sol).sort_values(\"porcoes\", ascending=False).reset_index(drop=True)\n",
        "print(\"\\nPorções selecionadas:\")\n",
        "print(df.to_string(index=False))"
      ]
    }
  ],
  "metadata": {
    "colab": {
      "provenance": []
    },
    "kernelspec": {
      "display_name": ".venv (3.12.3)",
      "language": "python",
      "name": "python3"
    },
    "language_info": {
      "codemirror_mode": {
        "name": "ipython",
        "version": 3
      },
      "file_extension": ".py",
      "mimetype": "text/x-python",
      "name": "python",
      "nbconvert_exporter": "python",
      "pygments_lexer": "ipython3",
      "version": "3.12.3"
    }
  },
  "nbformat": 4,
  "nbformat_minor": 0
}
