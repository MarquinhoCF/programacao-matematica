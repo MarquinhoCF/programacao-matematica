{
  "cells": [
    {
      "cell_type": "markdown",
      "metadata": {
        "id": "SDqZj9a8erxw"
      },
      "source": [
        "# GCC118 - Programação Matemática\n",
        "## Universidade Federal de Lavras\n",
        "### Instituto de Ciências Exatas e Tecnológicas\n",
        "#### Aluno: Marcos Carvalho Ferreira"
      ]
    },
    {
      "cell_type": "code",
      "execution_count": null,
      "metadata": {
        "colab": {
          "base_uri": "https://localhost:8080/"
        },
        "id": "gvVe_D0XevPM",
        "outputId": "0ec7e943-5298-4033-d768-a23080a305ae"
      },
      "outputs": [
        {
          "name": "stdout",
          "output_type": "stream",
          "text": [
            "Requirement already satisfied: pulp in ./.venv/lib/python3.12/site-packages (3.3.0)\n",
            "Note: you may need to restart the kernel to use updated packages.\n"
          ]
        }
      ],
      "source": [
        "!pip install pulp\n",
        "import pulp"
      ]
    },
    {
      "cell_type": "markdown",
      "metadata": {
        "id": "cVPKZZnpe0Pg"
      },
      "source": [
        "## Problema 3\n",
        "\n",
        "A cidade de União Paulista enfrenta uma séria carência orçamentária. Em busca de uma solução de longo prazo, a câmara de vereadores da cidade aprova uma melhoria da base da cobrança de impostos que prevê a condenação de uma área habitacional do centro da cidade e sua substituição por um conjunto habitacional moderno.\n",
        "\n",
        "O projeto envolve duas fases:\n",
        "\n",
        "1. demolição das casas que estão aquém do padrão para liberar terreno para o novo projeto;\n",
        "\n",
        "2. construção do novo conjunto urbano. A seguir daremos um resumo da situação.\n",
        "\n",
        "Um total de 300 casas aquém do padrão podem ser demolidas. Cada casa ocupa um lote de 0,25 acres. O custo de demolição de uma casa condenada é de $2.000. Os tamanhos de lotes para domicı́lios (unidades) simples, duplos, triplos e quádruplos são de 0,18; 0,28; 0,4 e 0,5 acres, respectivamente. Ruas, espaços abertos e instalações públicas ocupam 15% da\n",
        "área disponı́vel.\n",
        "\n",
        "No novo conjunto habitacional, as unidades triplas e quádruplas representam no mı́nimo 25% do total. Unidades simples devem representar no mı́nimo 20% de todas as unidades, e unidades duplas, no mı́nimo 10%. O imposto cobrado por unidade para unidades simples, duplas, triplas e quádruplas é de \\$1.000, \\$1.900, \\$2.700 e \\$3.400, respectivamente.\n",
        "\n",
        "O custo de construção por unidade domiciliar simples, dupla, tripla e quádrupla é de \\$50.000, \\$70.000, \\$130.000 e \\$160.000, respectivamente. O financiamento acordado com um banco local será de no máximo \\$15 milhões.\n",
        "\n",
        "Quantas unidades de cada tipo devem ser construı́das para maximizar a arrecadação de impostos?"
      ]
    },
    {
      "cell_type": "markdown",
      "metadata": {
        "id": "4VXh9xdTgdN6"
      },
      "source": [
        "## Parâmetros\n",
        "\n",
        "* casas máximas demolir: $C \\le 300$.\n",
        "* área por casa demolida: $0{,}25$ acres.\n",
        "* fração para ruas/serviços: $15\\%$ → fração útil $=0{,}85$.\n",
        "* lotes por unidade: $l_S=0{,}18,\\; l_D=0{,}28,\\; l_T=0{,}40,\\; l_Q=0{,}50$ (acres).\n",
        "* custo demolição por casa: \\$2000.\n",
        "* custo construção por unidade: $c_S=50000,\\; c_D=70000,\\; c_T=130000,\\; c_Q=160000$.\n",
        "* arrecadação (imposto) por unidade: $r_S=1000,\\; r_D=1900,\\; r_T=2700,\\; r_Q=3400$.\n",
        "* financiamento máximo: \\$15.000.000.\n",
        "\n",
        "## Variáveis de decisão\n",
        "\n",
        "* $S,D,T,Q \\in \\mathbb{Z}_{\\ge 0}$: número de unidades **simples**, **duplas**, **triplas** e **quádruplas** a construir.\n",
        "* $C \\in \\{0,1,\\dots,300\\}$: número de casas demolidas."
      ]
    },
    {
      "cell_type": "code",
      "execution_count": 2,
      "metadata": {
        "id": "kiOcitLkeqwF"
      },
      "outputs": [],
      "source": [
        "tipos = ['S', 'D', 'T', 'Q']\n",
        "\n",
        "lote = {'S': 0.18, 'D': 0.28, 'T': 0.40, 'Q': 0.50}\n",
        "\n",
        "imposto = {'S': 1000, 'D': 1900, 'T': 2700, 'Q': 3400}\n",
        "\n",
        "custo_const = {'S': 50000, 'D': 70000, 'T': 130000, 'Q': 160000}\n",
        "\n",
        "custo_demolicao_por_casa = 2000\n",
        "max_casas_demolir = 300\n",
        "area_por_casa = 0.25\n",
        "\n",
        "percent_espacos_pub = 0.15\n",
        "\n",
        "composicao = {\n",
        "    'S': 0.20,\n",
        "    'D': 0.10,\n",
        "    'T_Q': 0.25\n",
        "}\n",
        "\n",
        "financiamento_max = 15_000_000"
      ]
    },
    {
      "cell_type": "markdown",
      "metadata": {
        "id": "C_LD76iFhDAE"
      },
      "source": [
        "## Modelo matemático\n",
        "\n",
        "### Função Objetivo:\n",
        "\n",
        "Maximizar a arrecadação de impostos com a definição do numero de unidades construídas.\n",
        "\n",
        "$$\n",
        "\\max\\ f = 1000S + 1900D + 2700T + 3400Q\n",
        "$$\n",
        "\n",
        "### Restrições\n",
        "\n",
        "1. Área disponível (área útil total = $0.85\\times 0.25 C$):\n",
        "\n",
        "$$\n",
        "0.18S + 0.28D + 0.40T + 0.50Q \\;\\le\\; 0.85\\times 0.25 \\; C.\n",
        "$$\n",
        "\n",
        "2. Composição mínima:\n",
        "\n",
        "* triplas + quádruplas ≥ 25% do total:\n",
        "\n",
        "$$\n",
        "T + Q \\;\\ge\\; 0.25\\,(S+D+T+Q)\n",
        "$$\n",
        "\n",
        "* simples ≥ 20% do total:\n",
        "\n",
        "$$\n",
        "S \\ge 0.20\\,(S+D+T+Q)\n",
        "$$\n",
        "\n",
        "* duplas ≥ 10% do total:\n",
        "\n",
        "$$\n",
        "D \\ge 0.10\\,(S+D+T+Q)\n",
        "$$\n",
        "\n",
        "3. Orçamento/financiamento total máximo (demolição + construção):\n",
        "\n",
        "$$\n",
        "2000\\,C + 50000S + 70000D + 130000T + 160000Q \\;\\le\\; 15.000.000.\n",
        "$$\n",
        "\n",
        "4. Domínios:\n",
        "\n",
        "$$\n",
        "S,D,T,Q \\in \\mathbb{Z}_{\\ge0},\\quad 0 \\le C \\le 300,\\ C\\in\\mathbb{Z}.\n",
        "$$"
      ]
    },
    {
      "cell_type": "markdown",
      "metadata": {
        "id": "ol1VCZAPt6P0"
      },
      "source": [
        "### Declaração do objeto que representa o modelo matemático"
      ]
    },
    {
      "cell_type": "code",
      "execution_count": 3,
      "metadata": {
        "id": "u8MWnbjSeg4K"
      },
      "outputs": [],
      "source": [
        "modelo = pulp.LpProblem(\"PlanejamentoUrbano\", pulp.LpMaximize)"
      ]
    },
    {
      "cell_type": "markdown",
      "metadata": {
        "id": "OK5B2ubety83"
      },
      "source": [
        "### Variáveis de Decisão"
      ]
    },
    {
      "cell_type": "code",
      "execution_count": 4,
      "metadata": {
        "id": "rVbULAZafIr_"
      },
      "outputs": [],
      "source": [
        "x = pulp.LpVariable.dicts(\"Unidades\", tipos, lowBound=0, cat='Integer')\n",
        "C = pulp.LpVariable(\"CasasDemolidas\", lowBound=0, upBound=max_casas_demolir, cat='Integer')"
      ]
    },
    {
      "cell_type": "markdown",
      "metadata": {
        "id": "zPmZ19YNtvxE"
      },
      "source": [
        "### Função Objetivo"
      ]
    },
    {
      "cell_type": "code",
      "execution_count": 5,
      "metadata": {
        "id": "4NORsS2uf7W5"
      },
      "outputs": [],
      "source": [
        "modelo += pulp.lpSum(imposto[t] * x[t] for t in tipos), \"Maximizar_Impostos\""
      ]
    },
    {
      "cell_type": "markdown",
      "metadata": {
        "id": "_CGtUUfLuCEy"
      },
      "source": [
        "### Restrições"
      ]
    },
    {
      "cell_type": "code",
      "execution_count": 6,
      "metadata": {
        "id": "0A0Qqkcxgdk0"
      },
      "outputs": [],
      "source": [
        "area_util_por_casa = (1 - percent_espacos_pub) * area_por_casa\n",
        "modelo += pulp.lpSum(lote[t] * x[t] for t in tipos) <= area_util_por_casa * C, \"Restricao_Area\"\n",
        "\n",
        "# Expressão do total de unidades (S + D + T + Q)\n",
        "U = pulp.lpSum(x[t] for t in tipos)\n",
        "\n",
        "modelo += (x['T'] + x['Q']) >= 0.25*U, \"Min25_Te_Q\"\n",
        "modelo += x['S'] >= 0.20*U, \"Min20_S\"\n",
        "modelo += x['D'] >= 0.10*U, \"Min10_D\"\n",
        "\n",
        "custo_total = custo_demolicao_por_casa * C + pulp.lpSum(custo_const[t] * x[t] for t in tipos)\n",
        "modelo += custo_total <= financiamento_max, \"Restricao_Financiamento\""
      ]
    },
    {
      "cell_type": "code",
      "execution_count": 7,
      "metadata": {
        "colab": {
          "base_uri": "https://localhost:8080/"
        },
        "id": "iUzf4AUDIfUY",
        "outputId": "2962e7fb-9729-47a6-fe1a-3a36b00e7883"
      },
      "outputs": [
        {
          "data": {
            "text/plain": [
              "PlanejamentoUrbano:\n",
              "MAXIMIZE\n",
              "1900*Unidades_D + 3400*Unidades_Q + 1000*Unidades_S + 2700*Unidades_T + 0.0\n",
              "SUBJECT TO\n",
              "Restricao_Area: - 0.2125 CasasDemolidas + 0.28 Unidades_D + 0.5 Unidades_Q\n",
              " + 0.18 Unidades_S + 0.4 Unidades_T <= 0\n",
              "\n",
              "Min25_Te_Q: - 0.25 Unidades_D + 0.75 Unidades_Q - 0.25 Unidades_S\n",
              " + 0.75 Unidades_T >= 0\n",
              "\n",
              "Min20_S: - 0.2 Unidades_D - 0.2 Unidades_Q + 0.8 Unidades_S - 0.2 Unidades_T\n",
              " >= 0\n",
              "\n",
              "Min10_D: 0.9 Unidades_D - 0.1 Unidades_Q - 0.1 Unidades_S - 0.1 Unidades_T\n",
              " >= 0\n",
              "\n",
              "Restricao_Financiamento: 2000 CasasDemolidas + 70000 Unidades_D\n",
              " + 160000 Unidades_Q + 50000 Unidades_S + 130000 Unidades_T <= 15000000\n",
              "\n",
              "VARIABLES\n",
              "0 <= CasasDemolidas <= 300 Integer\n",
              "0 <= Unidades_D Integer\n",
              "0 <= Unidades_Q Integer\n",
              "0 <= Unidades_S Integer\n",
              "0 <= Unidades_T Integer"
            ]
          },
          "execution_count": 7,
          "metadata": {},
          "output_type": "execute_result"
        }
      ],
      "source": [
        "modelo"
      ]
    },
    {
      "cell_type": "markdown",
      "metadata": {
        "id": "KEv7-9YQuE2G"
      },
      "source": [
        "### Resolvendo o problema"
      ]
    },
    {
      "cell_type": "code",
      "execution_count": 8,
      "metadata": {
        "colab": {
          "base_uri": "https://localhost:8080/"
        },
        "id": "dtJmKXKVu6dv",
        "outputId": "987a0f1f-23e9-458c-9a13-24d2c9081027"
      },
      "outputs": [
        {
          "name": "stdout",
          "output_type": "stream",
          "text": [
            "Welcome to the CBC MILP Solver \n",
            "Version: 2.10.3 \n",
            "Build Date: Dec 15 2019 \n",
            "\n",
            "command line - /home/marcos/Área de trabalho/Mestrado/1 - Disciplina Isolada/Programação Matemática/Atividades Práticas/Atividade 1/atividade1/.venv/lib/python3.12/site-packages/pulp/apis/../solverdir/cbc/linux/i64/cbc /tmp/f0284f7d6ff447879f7e4d03c91f87ca-pulp.mps -max -timeMode elapsed -branch -printingOptions all -solution /tmp/f0284f7d6ff447879f7e4d03c91f87ca-pulp.sol (default strategy 1)\n",
            "At line 2 NAME          MODEL\n",
            "At line 3 ROWS\n",
            "At line 10 COLUMNS\n",
            "At line 47 RHS\n",
            "At line 53 BOUNDS\n",
            "At line 59 ENDATA\n",
            "Problem MODEL has 5 rows, 5 columns and 22 elements\n",
            "Coin0008I MODEL read with 0 errors\n",
            "Option for timeMode changed from cpu to elapsed\n",
            "Continuous objective value is 343965 - 0.00 seconds\n",
            "Cgl0004I processed model has 5 rows, 5 columns (5 integer (0 of which binary)) and 22 elements\n",
            "Cutoff increment increased from 1e-05 to 99.9999\n",
            "Cbc0012I Integer solution of -340200 found by DiveCoefficient after 0 iterations and 0 nodes (0.00 seconds)\n",
            "Cbc0012I Integer solution of -342000 found by DiveCoefficient after 278 iterations and 0 nodes (0.02 seconds)\n",
            "Cbc0031I 3 added rows had average density of 5\n",
            "Cbc0013I At root node, 3 cuts changed objective from -343965.15 to -343793.46 in 100 passes\n",
            "Cbc0014I Cut generator 0 (Probing) - 0 row cuts average 0.0 elements, 1 column cuts (1 active)  in 0.001 seconds - new frequency is -100\n",
            "Cbc0014I Cut generator 1 (Gomory) - 301 row cuts average 5.0 elements, 0 column cuts (0 active)  in 0.002 seconds - new frequency is 1\n",
            "Cbc0014I Cut generator 2 (Knapsack) - 0 row cuts average 0.0 elements, 0 column cuts (0 active)  in 0.000 seconds - new frequency is -100\n",
            "Cbc0014I Cut generator 3 (Clique) - 0 row cuts average 0.0 elements, 0 column cuts (0 active)  in 0.000 seconds - new frequency is -100\n",
            "Cbc0014I Cut generator 4 (MixedIntegerRounding2) - 0 row cuts average 0.0 elements, 0 column cuts (0 active)  in 0.001 seconds - new frequency is -100\n",
            "Cbc0014I Cut generator 5 (FlowCover) - 0 row cuts average 0.0 elements, 0 column cuts (0 active)  in 0.001 seconds - new frequency is -100\n",
            "Cbc0014I Cut generator 6 (TwoMirCuts) - 24 row cuts average 4.5 elements, 0 column cuts (0 active)  in 0.001 seconds - new frequency is -100\n",
            "Cbc0010I After 0 nodes, 1 on tree, -342000 best solution, best possible -343793.46 (0.02 seconds)\n",
            "Cbc0012I Integer solution of -343200 found by DiveCoefficient after 309 iterations and 2 nodes (0.02 seconds)\n",
            "Cbc0012I Integer solution of -343400 found by DiveCoefficient after 336 iterations and 5 nodes (0.02 seconds)\n",
            "Cbc0012I Integer solution of -343700 found by DiveCoefficient after 410 iterations and 12 nodes (0.03 seconds)\n",
            "Cbc0001I Search completed - best objective -343700, took 410 iterations and 12 nodes (0.03 seconds)\n",
            "Cbc0032I Strong branching done 56 times (84 iterations), fathomed 1 nodes and fixed 4 variables\n",
            "Cbc0035I Maximum depth 4, 1 variables fixed on reduced cost\n",
            "Cuts at root node changed objective from -343965 to -343793\n",
            "Probing was tried 100 times and created 1 cuts of which 0 were active after adding rounds of cuts (0.001 seconds)\n",
            "Gomory was tried 151 times and created 401 cuts of which 0 were active after adding rounds of cuts (0.005 seconds)\n",
            "Knapsack was tried 100 times and created 0 cuts of which 0 were active after adding rounds of cuts (0.000 seconds)\n",
            "Clique was tried 100 times and created 0 cuts of which 0 were active after adding rounds of cuts (0.000 seconds)\n",
            "MixedIntegerRounding2 was tried 100 times and created 0 cuts of which 0 were active after adding rounds of cuts (0.001 seconds)\n",
            "FlowCover was tried 100 times and created 0 cuts of which 0 were active after adding rounds of cuts (0.001 seconds)\n",
            "TwoMirCuts was tried 100 times and created 24 cuts of which 0 were active after adding rounds of cuts (0.001 seconds)\n",
            "ZeroHalf was tried 1 times and created 0 cuts of which 0 were active after adding rounds of cuts (0.000 seconds)\n",
            "\n",
            "Result - Optimal solution found\n",
            "\n",
            "Objective value:                343700.00000000\n",
            "Enumerated nodes:               12\n",
            "Total iterations:               410\n",
            "Time (CPU seconds):             0.02\n",
            "Time (Wallclock seconds):       0.03\n",
            "\n",
            "Option for printingOptions changed from normal to all\n",
            "Total time (CPU seconds):       0.02   (Wallclock seconds):       0.03\n",
            "\n"
          ]
        },
        {
          "data": {
            "text/plain": [
              "1"
            ]
          },
          "execution_count": 8,
          "metadata": {},
          "output_type": "execute_result"
        }
      ],
      "source": [
        "modelo.solve()"
      ]
    },
    {
      "cell_type": "markdown",
      "metadata": {
        "id": "85Bl4LwJu-4F"
      },
      "source": [
        "## Imprimindo as soluções do problema"
      ]
    },
    {
      "cell_type": "code",
      "execution_count": 9,
      "metadata": {
        "colab": {
          "base_uri": "https://localhost:8080/"
        },
        "id": "3zMssK7Dkw0g",
        "outputId": "d79c0ba0-c3c4-4367-ca5c-758d0b43c27a"
      },
      "outputs": [
        {
          "name": "stdout",
          "output_type": "stream",
          "text": [
            "Status: Optimal\n",
            "Arrecadação máxima (objetivo) = $343,700.00\n",
            "\n",
            "Unidades S: 36\n",
            "Unidades D: 98\n",
            "Unidades T: 45\n",
            "Unidades Q: 0\n",
            "\n",
            "Casas demolidas: 245\n",
            "Custo total (demolição + construção) = $15,000,000.00\n",
            "Área usada (acres) = 51.92\n",
            "Área disponível útil (acres) = 52.06\n",
            "Total unidades = 179\n",
            "Percentual T+Q = 25.14%\n",
            "Percentual S = 20.11%\n",
            "Percentual D = 54.75%\n"
          ]
        }
      ],
      "source": [
        "print(\"Status:\", pulp.LpStatus[modelo.status])\n",
        "print(\"Arrecadação máxima (objetivo) = ${:,.2f}\".format(pulp.value(modelo.objective)))\n",
        "print()\n",
        "\n",
        "total_unidades = 0\n",
        "for t in tipos:\n",
        "    print(f\"Unidades {t}: {int(pulp.value(x[t]))}\")\n",
        "    total_unidades += int(pulp.value(x[t]))\n",
        "\n",
        "print(f\"\\nCasas demolidas: {int(pulp.value(C))}\")\n",
        "print(\"Custo total (demolição + construção) = ${:,.2f}\".format(pulp.value(custo_total)))\n",
        "area_usada = sum(lote[t] * pulp.value(x[t]) for t in tipos)\n",
        "area_disponivel = area_util_por_casa * pulp.value(C)\n",
        "print(\"Área usada (acres) = {:.2f}\".format(area_usada))\n",
        "print(\"Área disponível útil (acres) = {:.2f}\".format(area_disponivel))\n",
        "print(\"Total unidades =\", total_unidades)\n",
        "if total_unidades>0:\n",
        "    print(\"Percentual T+Q = {:.2%}\".format((pulp.value(x['T']) + pulp.value(x['Q']))/total_unidades))\n",
        "    print(\"Percentual S = {:.2%}\".format(pulp.value(x['S'])/total_unidades))\n",
        "    print(\"Percentual D = {:.2%}\".format(pulp.value(x['D'])/total_unidades))"
      ]
    }
  ],
  "metadata": {
    "colab": {
      "provenance": []
    },
    "kernelspec": {
      "display_name": ".venv (3.12.3)",
      "language": "python",
      "name": "python3"
    },
    "language_info": {
      "codemirror_mode": {
        "name": "ipython",
        "version": 3
      },
      "file_extension": ".py",
      "mimetype": "text/x-python",
      "name": "python",
      "nbconvert_exporter": "python",
      "pygments_lexer": "ipython3",
      "version": "3.12.3"
    }
  },
  "nbformat": 4,
  "nbformat_minor": 0
}
